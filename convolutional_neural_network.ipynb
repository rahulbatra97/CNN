{
 "cells": [
  {
   "cell_type": "markdown",
   "metadata": {
    "id": "3DR-eO17geWu"
   },
   "source": [
    "# Convolutional Neural Network"
   ]
  },
  {
   "cell_type": "markdown",
   "metadata": {
    "id": "EMefrVPCg-60"
   },
   "source": [
    "### Importing the libraries"
   ]
  },
  {
   "cell_type": "code",
   "execution_count": 2,
   "metadata": {
    "executionInfo": {
     "elapsed": 2371,
     "status": "ok",
     "timestamp": 1614097599617,
     "user": {
      "displayName": "Rahul Batra",
      "photoUrl": "https://lh3.googleusercontent.com/a-/AOh14GgYO1-SyZXNHIiicfVC9E9gWpUdwL-558DAy38pww=s64",
      "userId": "18388343602548158473"
     },
     "user_tz": 0
    },
    "id": "mqgbFoLbtJpO"
   },
   "outputs": [],
   "source": [
    "import tensorflow as tf\n",
    "from keras.preprocessing.image import ImageDataGenerator"
   ]
  },
  {
   "cell_type": "code",
   "execution_count": 3,
   "metadata": {
    "colab": {
     "base_uri": "https://localhost:8080/",
     "height": 35
    },
    "executionInfo": {
     "elapsed": 830,
     "status": "ok",
     "timestamp": 1614097620788,
     "user": {
      "displayName": "Rahul Batra",
      "photoUrl": "https://lh3.googleusercontent.com/a-/AOh14GgYO1-SyZXNHIiicfVC9E9gWpUdwL-558DAy38pww=s64",
      "userId": "18388343602548158473"
     },
     "user_tz": 0
    },
    "id": "c6fZPni4teU4",
    "outputId": "8dd5726a-4db2-4a98-f1d5-0a422e1d4d98"
   },
   "outputs": [
    {
     "data": {
      "text/plain": [
       "'2.4.1'"
      ]
     },
     "execution_count": 3,
     "metadata": {},
     "output_type": "execute_result"
    }
   ],
   "source": [
    "tf.__version__"
   ]
  },
  {
   "cell_type": "markdown",
   "metadata": {
    "id": "oxQxCBWyoGPE"
   },
   "source": [
    "## Part 1 - Data Preprocessing"
   ]
  },
  {
   "cell_type": "markdown",
   "metadata": {
    "id": "MvE-heJNo3GG"
   },
   "source": [
    "### Preprocessing the Training set"
   ]
  },
  {
   "cell_type": "code",
   "execution_count": 5,
   "metadata": {
    "id": "NyGTSBI-t12D"
   },
   "outputs": [
    {
     "name": "stdout",
     "output_type": "stream",
     "text": [
      "Found 8000 images belonging to 2 classes.\n"
     ]
    }
   ],
   "source": [
    "#image augmentation to reduce overfitting\n",
    "train_datagen = ImageDataGenerator(\n",
    "        rescale=1./255,\n",
    "        shear_range=0.2,\n",
    "        zoom_range=0.2,\n",
    "        horizontal_flip=True)\n",
    "training_set = train_datagen.flow_from_directory(\n",
    "    'dataset/training_set',\n",
    "        target_size=(64, 64),\n",
    "        batch_size=32,\n",
    "        class_mode='binary')\n"
   ]
  },
  {
   "cell_type": "markdown",
   "metadata": {
    "id": "mrCMmGw9pHys"
   },
   "source": [
    "### Preprocessing the Test set"
   ]
  },
  {
   "cell_type": "code",
   "execution_count": 7,
   "metadata": {
    "id": "z8NauYaFxX1M"
   },
   "outputs": [
    {
     "name": "stdout",
     "output_type": "stream",
     "text": [
      "Found 2000 images belonging to 2 classes.\n"
     ]
    }
   ],
   "source": [
    "test_datagen = ImageDataGenerator(rescale=1./255)\n",
    "test_set = test_datagen.flow_from_directory(\n",
    "        'dataset/test_set',\n",
    "        target_size=(64, 64),\n",
    "        batch_size=32,\n",
    "        class_mode='binary')"
   ]
  },
  {
   "cell_type": "markdown",
   "metadata": {
    "id": "af8O4l90gk7B"
   },
   "source": [
    "## Part 2 - Building the CNN"
   ]
  },
  {
   "cell_type": "code",
   "execution_count": 8,
   "metadata": {
    "id": "KUy_ZALo-VUB"
   },
   "outputs": [],
   "source": [
    "cnn = tf.keras.models.Sequential()\n",
    "#sequence of layers not a computational graph"
   ]
  },
  {
   "cell_type": "markdown",
   "metadata": {
    "id": "ces1gXY2lmoX"
   },
   "source": [
    "### Initialising the CNN"
   ]
  },
  {
   "cell_type": "markdown",
   "metadata": {
    "id": "u5YJj_XMl5LF"
   },
   "source": [
    "### Step 1 - Convolution"
   ]
  },
  {
   "cell_type": "code",
   "execution_count": 9,
   "metadata": {
    "id": "18QH3yBc-spd"
   },
   "outputs": [],
   "source": [
    "cnn.add(tf.keras.layers.Conv2D(filters=32,kernel_size=3, activation='relu', input_shape=[64,64,3]))\n",
    "#input shape 64,64,3, the last number would be 1=black/white pics"
   ]
  },
  {
   "cell_type": "markdown",
   "metadata": {
    "id": "tf87FpvxmNOJ"
   },
   "source": [
    "### Step 2 - Pooling"
   ]
  },
  {
   "cell_type": "code",
   "execution_count": 11,
   "metadata": {
    "id": "Os5lllXrDbon"
   },
   "outputs": [],
   "source": [
    "cnn.add(tf.keras.layers.MaxPool2D(pool_size=2,strides=2))"
   ]
  },
  {
   "cell_type": "markdown",
   "metadata": {
    "id": "xaTOgD8rm4mU"
   },
   "source": [
    "### Adding a second convolutional layer"
   ]
  },
  {
   "cell_type": "code",
   "execution_count": 13,
   "metadata": {
    "id": "iMmRXheWEfqx"
   },
   "outputs": [],
   "source": [
    "cnn.add(tf.keras.layers.Conv2D(filters=32,kernel_size=3, activation='relu')) #remove input shape code\n",
    "cnn.add(tf.keras.layers.MaxPool2D(pool_size=2, strides=2))\n"
   ]
  },
  {
   "cell_type": "markdown",
   "metadata": {
    "id": "tmiEuvTunKfk"
   },
   "source": [
    "### Step 3 - Flattening"
   ]
  },
  {
   "cell_type": "code",
   "execution_count": 16,
   "metadata": {
    "id": "dhb2t3ZaFAno"
   },
   "outputs": [],
   "source": [
    "cnn.add(tf.keras.layers.Flatten())"
   ]
  },
  {
   "cell_type": "markdown",
   "metadata": {
    "id": "dAoSECOm203v"
   },
   "source": [
    "### Step 4 - Full Connection"
   ]
  },
  {
   "cell_type": "code",
   "execution_count": 17,
   "metadata": {
    "id": "gZqlQdXFFgyt"
   },
   "outputs": [],
   "source": [
    "cnn.add(tf.keras.layers.Dense(units=128,activation='relu')) #larger accuracy more neurons 128, rectifier activation function relu"
   ]
  },
  {
   "cell_type": "markdown",
   "metadata": {
    "id": "yTldFvbX28Na"
   },
   "source": [
    "### Step 5 - Output Layer"
   ]
  },
  {
   "cell_type": "code",
   "execution_count": 18,
   "metadata": {
    "id": "2vjXf9wgGHnG"
   },
   "outputs": [],
   "source": [
    "cnn.add(tf.keras.layers.Dense(units=1,activation='sigmoid')) #binary classification = 1 cat/dog, for binary we wnat sigmoid \n",
    "#if we were doing multiclass classification we would use softmax\n",
    "#the CNN is built"
   ]
  },
  {
   "cell_type": "markdown",
   "metadata": {
    "id": "D6XkI90snSDl"
   },
   "source": [
    "## Part 3 - Training the CNN"
   ]
  },
  {
   "cell_type": "markdown",
   "metadata": {
    "id": "vfrFQACEnc6i"
   },
   "source": [
    "### Compiling the CNN"
   ]
  },
  {
   "cell_type": "code",
   "execution_count": 19,
   "metadata": {
    "id": "6XGPXf1iNGMO"
   },
   "outputs": [],
   "source": [
    "cnn.compile(optimizer='adam', loss='binary_crossentropy', metrics= ['accuracy'])"
   ]
  },
  {
   "cell_type": "markdown",
   "metadata": {
    "id": "ehS-v3MIpX2h"
   },
   "source": [
    "### Training the CNN on the Training set and evaluating it on the Test set"
   ]
  },
  {
   "cell_type": "code",
   "execution_count": 20,
   "metadata": {
    "id": "2_fR7s4XNoMH"
   },
   "outputs": [
    {
     "name": "stdout",
     "output_type": "stream",
     "text": [
      "Epoch 1/25\n",
      "250/250 [==============================] - 119s 451ms/step - loss: 0.6904 - accuracy: 0.5373 - val_loss: 0.5959 - val_accuracy: 0.6875\n",
      "Epoch 2/25\n",
      "250/250 [==============================] - 85s 342ms/step - loss: 0.6077 - accuracy: 0.6704 - val_loss: 0.6280 - val_accuracy: 0.6610\n",
      "Epoch 3/25\n",
      "250/250 [==============================] - 81s 325ms/step - loss: 0.5803 - accuracy: 0.6879 - val_loss: 0.5374 - val_accuracy: 0.7245\n",
      "Epoch 4/25\n",
      "250/250 [==============================] - 120s 479ms/step - loss: 0.5464 - accuracy: 0.7175 - val_loss: 0.5154 - val_accuracy: 0.7500\n",
      "Epoch 5/25\n",
      "250/250 [==============================] - 122s 487ms/step - loss: 0.5269 - accuracy: 0.7312 - val_loss: 0.5176 - val_accuracy: 0.7450\n",
      "Epoch 6/25\n",
      "250/250 [==============================] - 87s 347ms/step - loss: 0.5077 - accuracy: 0.7494 - val_loss: 0.4966 - val_accuracy: 0.7615\n",
      "Epoch 7/25\n",
      "250/250 [==============================] - 2055s 8s/step - loss: 0.4893 - accuracy: 0.7680 - val_loss: 0.4662 - val_accuracy: 0.7795\n",
      "Epoch 8/25\n",
      "250/250 [==============================] - 122s 487ms/step - loss: 0.4635 - accuracy: 0.7803 - val_loss: 0.4855 - val_accuracy: 0.7730\n",
      "Epoch 9/25\n",
      "250/250 [==============================] - 91s 363ms/step - loss: 0.4438 - accuracy: 0.7864 - val_loss: 0.4493 - val_accuracy: 0.7950\n",
      "Epoch 10/25\n",
      "250/250 [==============================] - 93s 372ms/step - loss: 0.4336 - accuracy: 0.7990 - val_loss: 0.5448 - val_accuracy: 0.7385\n",
      "Epoch 11/25\n",
      "250/250 [==============================] - 101s 403ms/step - loss: 0.4252 - accuracy: 0.7989 - val_loss: 0.4663 - val_accuracy: 0.7790\n",
      "Epoch 12/25\n",
      "250/250 [==============================] - 92s 367ms/step - loss: 0.4096 - accuracy: 0.8051 - val_loss: 0.4627 - val_accuracy: 0.7955\n",
      "Epoch 13/25\n",
      "250/250 [==============================] - 97s 389ms/step - loss: 0.3909 - accuracy: 0.8236 - val_loss: 0.4641 - val_accuracy: 0.7980\n",
      "Epoch 14/25\n",
      "250/250 [==============================] - 99s 396ms/step - loss: 0.3903 - accuracy: 0.8206 - val_loss: 0.4392 - val_accuracy: 0.8045\n",
      "Epoch 15/25\n",
      "250/250 [==============================] - 107s 428ms/step - loss: 0.3666 - accuracy: 0.8333 - val_loss: 0.4676 - val_accuracy: 0.7975\n",
      "Epoch 16/25\n",
      "250/250 [==============================] - 101s 404ms/step - loss: 0.3630 - accuracy: 0.8340 - val_loss: 0.5490 - val_accuracy: 0.7710\n",
      "Epoch 17/25\n",
      "250/250 [==============================] - 91s 366ms/step - loss: 0.3431 - accuracy: 0.8464 - val_loss: 0.4214 - val_accuracy: 0.8075\n",
      "Epoch 18/25\n",
      "250/250 [==============================] - 112s 447ms/step - loss: 0.3366 - accuracy: 0.8542 - val_loss: 0.4618 - val_accuracy: 0.8130\n",
      "Epoch 19/25\n",
      "250/250 [==============================] - 90s 360ms/step - loss: 0.3156 - accuracy: 0.8592 - val_loss: 0.4354 - val_accuracy: 0.8100\n",
      "Epoch 20/25\n",
      "250/250 [==============================] - 116s 463ms/step - loss: 0.3004 - accuracy: 0.8735 - val_loss: 0.4630 - val_accuracy: 0.7985\n",
      "Epoch 21/25\n",
      "250/250 [==============================] - 131s 522ms/step - loss: 0.2882 - accuracy: 0.8784 - val_loss: 0.4509 - val_accuracy: 0.8250\n",
      "Epoch 22/25\n",
      "250/250 [==============================] - 101s 403ms/step - loss: 0.2824 - accuracy: 0.8796 - val_loss: 0.4452 - val_accuracy: 0.8220\n",
      "Epoch 23/25\n",
      "250/250 [==============================] - 102s 408ms/step - loss: 0.2637 - accuracy: 0.8898 - val_loss: 0.4477 - val_accuracy: 0.8240\n",
      "Epoch 24/25\n",
      "250/250 [==============================] - 119s 477ms/step - loss: 0.2385 - accuracy: 0.8989 - val_loss: 0.5107 - val_accuracy: 0.8035\n",
      "Epoch 25/25\n",
      "250/250 [==============================] - 97s 387ms/step - loss: 0.2256 - accuracy: 0.9065 - val_loss: 0.4889 - val_accuracy: 0.8155\n"
     ]
    },
    {
     "data": {
      "text/plain": [
       "<tensorflow.python.keras.callbacks.History at 0x1fe1dfe0850>"
      ]
     },
     "execution_count": 20,
     "metadata": {},
     "output_type": "execute_result"
    }
   ],
   "source": [
    "cnn.fit(x= training_set, validation_data = test_set, epochs = 25)\n",
    "#25 epochs, 32 baches with 250 steps in each epoch = 8000 pics"
   ]
  },
  {
   "cell_type": "markdown",
   "metadata": {
    "id": "U3PZasO0006Z"
   },
   "source": [
    "## Part 4 - Making a single prediction"
   ]
  },
  {
   "cell_type": "code",
   "execution_count": 45,
   "metadata": {
    "id": "NXlRVv2JOndL"
   },
   "outputs": [],
   "source": [
    "import numpy as np \n",
    "from keras.preprocessing import image\n",
    "test_image = image.load_img('dataset/single_prediction/cat_or_dog_7.jpg', target_size=(64,64))\n",
    "test_image = image.img_to_array(test_image)\n",
    "#PIL image to numpy array\n",
    "test_image = np.expand_dims(test_image, axis = 0)\n",
    "result = cnn.predict(test_image)\n",
    "training_set.class_indices \n",
    "#what is cat what is dog\n",
    "if result[0][0] == 1:\n",
    "  prediction = 'dog'\n",
    "else:\n",
    "  prediction = 'cat'\n",
    "  "
   ]
  },
  {
   "cell_type": "code",
   "execution_count": 46,
   "metadata": {},
   "outputs": [
    {
     "name": "stdout",
     "output_type": "stream",
     "text": [
      "cat\n"
     ]
    }
   ],
   "source": [
    "print(prediction)"
   ]
  },
  {
   "cell_type": "code",
   "execution_count": null,
   "metadata": {},
   "outputs": [],
   "source": []
  }
 ],
 "metadata": {
  "colab": {
   "collapsed_sections": [],
   "name": "convolutional_neural_network.ipynb",
   "provenance": [
    {
     "file_id": "1Y-a4g98w93GHswXLRLoiogvMYNPgzPE9",
     "timestamp": 1614096921753
    }
   ]
  },
  "kernelspec": {
   "display_name": "Python 3",
   "language": "python",
   "name": "python3"
  },
  "language_info": {
   "codemirror_mode": {
    "name": "ipython",
    "version": 3
   },
   "file_extension": ".py",
   "mimetype": "text/x-python",
   "name": "python",
   "nbconvert_exporter": "python",
   "pygments_lexer": "ipython3",
   "version": "3.8.5"
  }
 },
 "nbformat": 4,
 "nbformat_minor": 1
}
