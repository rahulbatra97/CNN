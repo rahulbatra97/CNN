{
 "cells": [
  {
   "cell_type": "markdown",
   "metadata": {
    "id": "3DR-eO17geWu"
   },
   "source": [
    "# Convolutional Neural Network"
   ]
  },
  {
   "cell_type": "markdown",
   "metadata": {
    "id": "EMefrVPCg-60"
   },
   "source": [
    "### Importing the libraries"
   ]
  },
  {
   "cell_type": "code",
   "execution_count": 1,
   "metadata": {
    "executionInfo": {
     "elapsed": 2371,
     "status": "ok",
     "timestamp": 1614097599617,
     "user": {
      "displayName": "Rahul Batra",
      "photoUrl": "https://lh3.googleusercontent.com/a-/AOh14GgYO1-SyZXNHIiicfVC9E9gWpUdwL-558DAy38pww=s64",
      "userId": "18388343602548158473"
     },
     "user_tz": 0
    },
    "id": "mqgbFoLbtJpO"
   },
   "outputs": [],
   "source": [
    "%load_ext autoreload\n",
    "import tensorflow as tf\n",
    "from keras.preprocessing.image import ImageDataGenerator"
   ]
  },
  {
   "cell_type": "code",
   "execution_count": 2,
   "metadata": {
    "colab": {
     "base_uri": "https://localhost:8080/",
     "height": 35
    },
    "executionInfo": {
     "elapsed": 830,
     "status": "ok",
     "timestamp": 1614097620788,
     "user": {
      "displayName": "Rahul Batra",
      "photoUrl": "https://lh3.googleusercontent.com/a-/AOh14GgYO1-SyZXNHIiicfVC9E9gWpUdwL-558DAy38pww=s64",
      "userId": "18388343602548158473"
     },
     "user_tz": 0
    },
    "id": "c6fZPni4teU4",
    "outputId": "8dd5726a-4db2-4a98-f1d5-0a422e1d4d98"
   },
   "outputs": [
    {
     "data": {
      "text/plain": [
       "'2.4.1'"
      ]
     },
     "execution_count": 2,
     "metadata": {},
     "output_type": "execute_result"
    }
   ],
   "source": [
    "tf.__version__"
   ]
  },
  {
   "cell_type": "markdown",
   "metadata": {
    "id": "oxQxCBWyoGPE"
   },
   "source": [
    "## Part 1 - Data Preprocessing"
   ]
  },
  {
   "cell_type": "markdown",
   "metadata": {
    "id": "MvE-heJNo3GG"
   },
   "source": [
    "### Preprocessing the Training set"
   ]
  },
  {
   "cell_type": "code",
   "execution_count": 3,
   "metadata": {
    "id": "NyGTSBI-t12D"
   },
   "outputs": [
    {
     "name": "stdout",
     "output_type": "stream",
     "text": [
      "Found 48 images belonging to 2 classes.\n"
     ]
    }
   ],
   "source": [
    "#image augmentation to reduce overfitting\n",
    "train_datagen = ImageDataGenerator(\n",
    "        rescale=1./255,\n",
    "        shear_range=0.2,\n",
    "        zoom_range=0.2,\n",
    "        horizontal_flip=True)\n",
    "training_set = train_datagen.flow_from_directory(\n",
    "    'dataset/training_set2',\n",
    "        target_size=(64, 64),\n",
    "        batch_size=32,\n",
    "        class_mode='binary')\n"
   ]
  },
  {
   "cell_type": "markdown",
   "metadata": {
    "id": "mrCMmGw9pHys"
   },
   "source": [
    "### Preprocessing the Test set"
   ]
  },
  {
   "cell_type": "code",
   "execution_count": 4,
   "metadata": {
    "id": "z8NauYaFxX1M"
   },
   "outputs": [
    {
     "name": "stdout",
     "output_type": "stream",
     "text": [
      "Found 12 images belonging to 2 classes.\n"
     ]
    }
   ],
   "source": [
    "test_datagen = ImageDataGenerator(rescale=1./255)\n",
    "test_set = test_datagen.flow_from_directory(\n",
    "        'dataset/test_set2',\n",
    "        target_size=(64, 64),\n",
    "        batch_size=32,\n",
    "        class_mode='binary')"
   ]
  },
  {
   "cell_type": "markdown",
   "metadata": {
    "id": "af8O4l90gk7B"
   },
   "source": [
    "## Part 2 - Building the CNN"
   ]
  },
  {
   "cell_type": "code",
   "execution_count": 5,
   "metadata": {
    "id": "KUy_ZALo-VUB"
   },
   "outputs": [],
   "source": [
    "cnn = tf.keras.models.Sequential()\n",
    "#sequence of layers not a computational graph"
   ]
  },
  {
   "cell_type": "markdown",
   "metadata": {
    "id": "ces1gXY2lmoX"
   },
   "source": [
    "### Initialising the CNN"
   ]
  },
  {
   "cell_type": "markdown",
   "metadata": {
    "id": "u5YJj_XMl5LF"
   },
   "source": [
    "### Step 1 - Convolution"
   ]
  },
  {
   "cell_type": "code",
   "execution_count": 6,
   "metadata": {
    "id": "18QH3yBc-spd"
   },
   "outputs": [],
   "source": [
    "cnn.add(tf.keras.layers.Conv2D(filters=32,kernel_size=3, activation='relu', input_shape=[64,64,3]))\n",
    "#input shape 64,64,3, the last number would be 1=black/white pics"
   ]
  },
  {
   "cell_type": "markdown",
   "metadata": {
    "id": "tf87FpvxmNOJ"
   },
   "source": [
    "### Step 2 - Pooling"
   ]
  },
  {
   "cell_type": "code",
   "execution_count": 7,
   "metadata": {
    "id": "Os5lllXrDbon"
   },
   "outputs": [],
   "source": [
    "cnn.add(tf.keras.layers.MaxPool2D(pool_size=2,strides=2))"
   ]
  },
  {
   "cell_type": "markdown",
   "metadata": {
    "id": "xaTOgD8rm4mU"
   },
   "source": [
    "### Adding a second convolutional layer"
   ]
  },
  {
   "cell_type": "code",
   "execution_count": 8,
   "metadata": {
    "id": "iMmRXheWEfqx"
   },
   "outputs": [],
   "source": [
    "cnn.add(tf.keras.layers.Conv2D(filters=32,kernel_size=3, activation='relu')) #remove input shape code\n",
    "cnn.add(tf.keras.layers.MaxPool2D(pool_size=2, strides=2))\n"
   ]
  },
  {
   "cell_type": "markdown",
   "metadata": {
    "id": "tmiEuvTunKfk"
   },
   "source": [
    "### Step 3 - Flattening"
   ]
  },
  {
   "cell_type": "code",
   "execution_count": 9,
   "metadata": {
    "id": "dhb2t3ZaFAno"
   },
   "outputs": [],
   "source": [
    "cnn.add(tf.keras.layers.Flatten())"
   ]
  },
  {
   "cell_type": "markdown",
   "metadata": {
    "id": "dAoSECOm203v"
   },
   "source": [
    "### Step 4 - Full Connection"
   ]
  },
  {
   "cell_type": "code",
   "execution_count": 10,
   "metadata": {
    "id": "gZqlQdXFFgyt"
   },
   "outputs": [],
   "source": [
    "cnn.add(tf.keras.layers.Dense(units=128,activation='relu')) #larger accuracy more neurons 128, rectifier activation function relu"
   ]
  },
  {
   "cell_type": "markdown",
   "metadata": {
    "id": "yTldFvbX28Na"
   },
   "source": [
    "### Step 5 - Output Layer"
   ]
  },
  {
   "cell_type": "code",
   "execution_count": 11,
   "metadata": {
    "id": "2vjXf9wgGHnG"
   },
   "outputs": [],
   "source": [
    "cnn.add(tf.keras.layers.Dense(units=1,activation='sigmoid')) #binary classification = 1 cat/dog, for binary we wnat sigmoid \n",
    "#if we were doing multiclass classification we would use softmax\n",
    "#the CNN is built"
   ]
  },
  {
   "cell_type": "markdown",
   "metadata": {
    "id": "D6XkI90snSDl"
   },
   "source": [
    "## Part 3 - Training the CNN"
   ]
  },
  {
   "cell_type": "markdown",
   "metadata": {
    "id": "vfrFQACEnc6i"
   },
   "source": [
    "### Compiling the CNN"
   ]
  },
  {
   "cell_type": "code",
   "execution_count": 12,
   "metadata": {
    "id": "6XGPXf1iNGMO"
   },
   "outputs": [],
   "source": [
    "cnn.compile(optimizer='adam', loss='binary_crossentropy', metrics= ['accuracy'])"
   ]
  },
  {
   "cell_type": "markdown",
   "metadata": {
    "id": "ehS-v3MIpX2h"
   },
   "source": [
    "### Training the CNN on the Training set and evaluating it on the Test set"
   ]
  },
  {
   "cell_type": "code",
   "execution_count": 13,
   "metadata": {
    "id": "2_fR7s4XNoMH"
   },
   "outputs": [
    {
     "name": "stdout",
     "output_type": "stream",
     "text": [
      "Epoch 1/25\n",
      "2/2 [==============================] - 9s 5s/step - loss: 0.7021 - accuracy: 0.5451 - val_loss: 1.4872 - val_accuracy: 0.5000\n",
      "Epoch 2/25\n",
      "2/2 [==============================] - 3s 2s/step - loss: 1.2722 - accuracy: 0.4896 - val_loss: 0.6735 - val_accuracy: 0.5000\n",
      "Epoch 3/25\n",
      "2/2 [==============================] - 3s 2s/step - loss: 0.6474 - accuracy: 0.5347 - val_loss: 0.6927 - val_accuracy: 0.5000\n",
      "Epoch 4/25\n",
      "2/2 [==============================] - 3s 1s/step - loss: 0.6640 - accuracy: 0.5208 - val_loss: 0.6640 - val_accuracy: 0.5833\n",
      "Epoch 5/25\n",
      "2/2 [==============================] - 4s 2s/step - loss: 0.6424 - accuracy: 0.6562 - val_loss: 0.6502 - val_accuracy: 0.5000\n",
      "Epoch 6/25\n",
      "2/2 [==============================] - 3s 2s/step - loss: 0.6253 - accuracy: 0.4931 - val_loss: 0.6379 - val_accuracy: 0.5000\n",
      "Epoch 7/25\n",
      "2/2 [==============================] - 3s 3s/step - loss: 0.5798 - accuracy: 0.6736 - val_loss: 0.5849 - val_accuracy: 0.6667\n",
      "Epoch 8/25\n",
      "2/2 [==============================] - 3s 2s/step - loss: 0.5617 - accuracy: 0.7778 - val_loss: 0.5284 - val_accuracy: 0.6667\n",
      "Epoch 9/25\n",
      "2/2 [==============================] - 3s 1s/step - loss: 0.4873 - accuracy: 0.8750 - val_loss: 0.5251 - val_accuracy: 0.6667\n",
      "Epoch 10/25\n",
      "2/2 [==============================] - 3s 2s/step - loss: 0.4081 - accuracy: 0.8611 - val_loss: 0.4629 - val_accuracy: 0.7500\n",
      "Epoch 11/25\n",
      "2/2 [==============================] - 3s 1s/step - loss: 0.3504 - accuracy: 0.8889 - val_loss: 0.3895 - val_accuracy: 0.8333\n",
      "Epoch 12/25\n",
      "2/2 [==============================] - 3s 2s/step - loss: 0.3388 - accuracy: 0.9167 - val_loss: 0.4562 - val_accuracy: 0.6667\n",
      "Epoch 13/25\n",
      "2/2 [==============================] - 3s 1s/step - loss: 0.2573 - accuracy: 0.9132 - val_loss: 0.2876 - val_accuracy: 0.8333\n",
      "Epoch 14/25\n",
      "2/2 [==============================] - 3s 1s/step - loss: 0.3107 - accuracy: 0.8958 - val_loss: 0.2767 - val_accuracy: 0.9167\n",
      "Epoch 15/25\n",
      "2/2 [==============================] - 3s 3s/step - loss: 0.2011 - accuracy: 0.9583 - val_loss: 0.5387 - val_accuracy: 0.6667\n",
      "Epoch 16/25\n",
      "2/2 [==============================] - 3s 2s/step - loss: 0.1979 - accuracy: 0.9444 - val_loss: 0.1736 - val_accuracy: 1.0000\n",
      "Epoch 17/25\n",
      "2/2 [==============================] - 3s 1s/step - loss: 0.2387 - accuracy: 0.8993 - val_loss: 0.1749 - val_accuracy: 1.0000\n",
      "Epoch 18/25\n",
      "2/2 [==============================] - 3s 1s/step - loss: 0.1543 - accuracy: 0.9618 - val_loss: 0.4761 - val_accuracy: 0.8333\n",
      "Epoch 19/25\n",
      "2/2 [==============================] - 3s 2s/step - loss: 0.1708 - accuracy: 0.9514 - val_loss: 0.2566 - val_accuracy: 0.9167\n",
      "Epoch 20/25\n",
      "2/2 [==============================] - 3s 1s/step - loss: 0.1346 - accuracy: 0.9757 - val_loss: 0.1340 - val_accuracy: 1.0000\n",
      "Epoch 21/25\n",
      "2/2 [==============================] - 3s 2s/step - loss: 0.1186 - accuracy: 0.9722 - val_loss: 0.1777 - val_accuracy: 0.9167\n",
      "Epoch 22/25\n",
      "2/2 [==============================] - 3s 2s/step - loss: 0.1118 - accuracy: 0.9653 - val_loss: 0.3149 - val_accuracy: 0.8333\n",
      "Epoch 23/25\n",
      "2/2 [==============================] - 3s 2s/step - loss: 0.1006 - accuracy: 0.9618 - val_loss: 0.2243 - val_accuracy: 0.9167\n",
      "Epoch 24/25\n",
      "2/2 [==============================] - 3s 2s/step - loss: 0.0755 - accuracy: 0.9722 - val_loss: 0.1302 - val_accuracy: 0.9167\n",
      "Epoch 25/25\n",
      "2/2 [==============================] - 3s 1s/step - loss: 0.1422 - accuracy: 0.9514 - val_loss: 0.2592 - val_accuracy: 0.9167\n"
     ]
    },
    {
     "data": {
      "text/plain": [
       "<tensorflow.python.keras.callbacks.History at 0x1d26441a850>"
      ]
     },
     "execution_count": 13,
     "metadata": {},
     "output_type": "execute_result"
    }
   ],
   "source": [
    "cnn.fit(x= training_set, validation_data = test_set, epochs = 25)\n",
    "#25 epochs, 32 baches with 250 steps in each epoch = 8000 pics"
   ]
  },
  {
   "cell_type": "markdown",
   "metadata": {
    "id": "U3PZasO0006Z"
   },
   "source": [
    "## Part 4 - Making a single prediction"
   ]
  },
  {
   "cell_type": "code",
   "execution_count": 42,
   "metadata": {
    "id": "NXlRVv2JOndL"
   },
   "outputs": [],
   "source": [
    "import numpy as np \n",
    "from keras.preprocessing import image\n",
    "test_image = image.load_img('dataset/single_prediction2/chihuahua_or_muffin6.jpg', target_size=(64,64))\n",
    "test_image = image.img_to_array(test_image)\n",
    "#PIL image to numpy array\n",
    "test_image = np.expand_dims(test_image, axis = 0)\n",
    "result = cnn.predict(test_image)\n",
    "training_set.class_indices \n",
    "#what is cat what is dog\n",
    "if result[0][0] == 1:\n",
    "  prediction = 'muffin'\n",
    "else:\n",
    "  prediction = 'chihuahua'\n",
    "  "
   ]
  },
  {
   "cell_type": "code",
   "execution_count": 43,
   "metadata": {},
   "outputs": [
    {
     "name": "stdout",
     "output_type": "stream",
     "text": [
      "chihuahua\n"
     ]
    }
   ],
   "source": [
    "print(prediction)"
   ]
  },
  {
   "cell_type": "code",
   "execution_count": null,
   "metadata": {},
   "outputs": [],
   "source": []
  }
 ],
 "metadata": {
  "colab": {
   "collapsed_sections": [],
   "name": "convolutional_neural_network.ipynb",
   "provenance": [
    {
     "file_id": "1Y-a4g98w93GHswXLRLoiogvMYNPgzPE9",
     "timestamp": 1614096921753
    }
   ]
  },
  "kernelspec": {
   "display_name": "Python 3",
   "language": "python",
   "name": "python3"
  },
  "language_info": {
   "codemirror_mode": {
    "name": "ipython",
    "version": 3
   },
   "file_extension": ".py",
   "mimetype": "text/x-python",
   "name": "python",
   "nbconvert_exporter": "python",
   "pygments_lexer": "ipython3",
   "version": "3.8.5"
  }
 },
 "nbformat": 4,
 "nbformat_minor": 1
}
